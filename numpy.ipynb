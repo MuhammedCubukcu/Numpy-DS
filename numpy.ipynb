{
 "cells": [
  {
   "cell_type": "markdown",
   "metadata": {},
   "source": [
    "## Numpy \n",
    "* Numpy bir python kütüphanesidir. Bu kütüphane matematiksel işlemler yaparak veri işlemleri gerçek-\n",
    "leştirir.\n"
   ]
  },
  {
   "cell_type": "code",
   "execution_count": 1,
   "metadata": {},
   "outputs": [],
   "source": [
    "# numpy kütüphanesi np kısaltma adıyla aşağıdaki gibi eklenir:\n",
    "import numpy as np"
   ]
  },
  {
   "cell_type": "code",
   "execution_count": 2,
   "metadata": {},
   "outputs": [
    {
     "data": {
      "text/plain": [
       "array([1, 2, 3, 4, 5])"
      ]
     },
     "execution_count": 2,
     "metadata": {},
     "output_type": "execute_result"
    }
   ],
   "source": [
    "# Dizi (array) oluşturma:\n",
    "array = np.array([1,2,3,4,5])\n",
    "array"
   ]
  },
  {
   "cell_type": "code",
   "execution_count": 3,
   "metadata": {},
   "outputs": [
    {
     "data": {
      "text/plain": [
       "numpy.ndarray"
      ]
     },
     "execution_count": 3,
     "metadata": {},
     "output_type": "execute_result"
    }
   ],
   "source": [
    "# Dizinin veri tipini öğrenme: Yukarıdaki dizinin tipi numpy veri tiplerinden ndarray tipindedir. Python’da\n",
    "# olduğu gibi numpy kütüphanesinin de kendine özgü veri tipleri vardır. ndarray bunlardan biridir.\n",
    "type(array)"
   ]
  },
  {
   "cell_type": "code",
   "execution_count": 4,
   "metadata": {},
   "outputs": [
    {
     "data": {
      "text/plain": [
       "dtype('int64')"
      ]
     },
     "execution_count": 4,
     "metadata": {},
     "output_type": "execute_result"
    }
   ],
   "source": [
    "# Dizi içindeki verilerin tipini öğrenme: Yukarıdaki dizinin içindeki veriler int32 veri tipindedir.\n",
    "array.dtype"
   ]
  },
  {
   "cell_type": "code",
   "execution_count": 5,
   "metadata": {},
   "outputs": [
    {
     "data": {
      "text/plain": [
       "dtype('float64')"
      ]
     },
     "execution_count": 5,
     "metadata": {},
     "output_type": "execute_result"
    }
   ],
   "source": [
    "# Numpy içindeki verilerin tipi en geniş anlamda tanımlanır: Örneğin dizinin içinde hem tam sayı hem\n",
    "# de float türü sayı varsa bu durumda dtype değeri float olarak belirlenir. Çünkü float veri türü tam sayı-\n",
    "# ları da kapsar. Kısacası NumPy dizileri, bellek verimliliği ve performans nedeniyle homojen veri tipleri\n",
    "# gerektirir bu nedenle bir dizi için sadece tek bir veri tipi tanımlanır. Örnek:\n",
    "array = np.array( [1, 1.5, 2, 2.5, 3, 3.5, 4] )\n",
    "array.dtype"
   ]
  },
  {
   "cell_type": "code",
   "execution_count": 7,
   "metadata": {},
   "outputs": [
    {
     "data": {
      "text/plain": [
       "array([1., 2., 3., 4., 5., 6.])"
      ]
     },
     "execution_count": 7,
     "metadata": {},
     "output_type": "execute_result"
    }
   ],
   "source": [
    "# Dizi içindeki verilerin tipini belirleme: Dizi içindeki verilerin tipini aşağıdaki gibi önceden belirleyebiliriz.\n",
    "array = np.array( [1 ,2, 3, 4, 5, 6] , dtype=float)\n",
    "array"
   ]
  },
  {
   "cell_type": "code",
   "execution_count": 8,
   "metadata": {},
   "outputs": [
    {
     "data": {
      "text/plain": [
       "array([[1, 2, 3],\n",
       "       [4, 5, 6]])"
      ]
     },
     "execution_count": 8,
     "metadata": {},
     "output_type": "execute_result"
    }
   ],
   "source": [
    "# İki boyutlu bir dizi oluşturma:\n",
    "array = np.array([ [1, 2, 3] , [4, 5, 6] ])\n",
    "array"
   ]
  },
  {
   "cell_type": "code",
   "execution_count": 10,
   "metadata": {},
   "outputs": [
    {
     "data": {
      "text/plain": [
       "2"
      ]
     },
     "execution_count": 10,
     "metadata": {},
     "output_type": "execute_result"
    }
   ],
   "source": [
    "# Dizilerin kaç boyutlu olduğunu öğrenme: \n",
    "array.ndim"
   ]
  },
  {
   "cell_type": "code",
   "execution_count": 11,
   "metadata": {},
   "outputs": [
    {
     "data": {
      "text/plain": [
       "(2, 3)"
      ]
     },
     "execution_count": 11,
     "metadata": {},
     "output_type": "execute_result"
    }
   ],
   "source": [
    "# Dizilerin satır ve sütun sayısını öğrenme:\n",
    "array.shape"
   ]
  },
  {
   "cell_type": "code",
   "execution_count": 12,
   "metadata": {},
   "outputs": [
    {
     "data": {
      "text/plain": [
       "array([[1, 2, 3],\n",
       "       [4, 5, 6]])"
      ]
     },
     "execution_count": 12,
     "metadata": {},
     "output_type": "execute_result"
    }
   ],
   "source": [
    "array = np.array( [1, 2, 3, 4, 5, 6] )\n",
    "# yukarıdaki diziyi 2 adet satır ve 3 adet sütuna dönüştürüyoruz.\n",
    "array.reshape(2, 3)\n",
    "# Ek bilgi: shape oluştururken satır ve sütun sayılarının çarpımı dizi eleman sayısına eşit olmalıdır."
   ]
  },
  {
   "cell_type": "code",
   "execution_count": 13,
   "metadata": {},
   "outputs": [
    {
     "data": {
      "text/plain": [
       "array([ 0,  1,  2,  3,  4,  5,  6,  7,  8,  9, 10, 11, 12, 13, 14, 15, 16,\n",
       "       17, 18, 19, 20, 21, 22, 23, 24, 25, 26, 27, 28, 29])"
      ]
     },
     "execution_count": 13,
     "metadata": {},
     "output_type": "execute_result"
    }
   ],
   "source": [
    "# Otomatik sayı dizisi oluşturma:\n",
    "# 0'dan başlayarak 30'a kadar (30 dâhil değil) dizi oluşturma\n",
    "array = np.arange(30)\n",
    "array"
   ]
  },
  {
   "cell_type": "code",
   "execution_count": 14,
   "metadata": {},
   "outputs": [
    {
     "data": {
      "text/plain": [
       "array([ 0,  3,  6,  9, 12, 15, 18, 21, 24, 27])"
      ]
     },
     "execution_count": 14,
     "metadata": {},
     "output_type": "execute_result"
    }
   ],
   "source": [
    "# Sabit aralıklı otomatik sayı dizisi oluşturma:\n",
    "# 0'dan başlayarak 30'a kadar üçer sıra atlayarak dizi oluşturma\n",
    "array = np.arange(0, 30, 3)\n",
    "array"
   ]
  },
  {
   "cell_type": "code",
   "execution_count": 15,
   "metadata": {},
   "outputs": [
    {
     "data": {
      "text/plain": [
       "array([ 0,  3,  6,  9, 12, 15, 18, 21, 24, 27])"
      ]
     },
     "execution_count": 15,
     "metadata": {},
     "output_type": "execute_result"
    }
   ],
   "source": [
    "# Bir diziyi kopyalama: Yukarıdaki diziyi kopyalayalım\n",
    "array_2 = array.copy()\n",
    "array_2"
   ]
  },
  {
   "cell_type": "code",
   "execution_count": 16,
   "metadata": {},
   "outputs": [
    {
     "data": {
      "text/plain": [
       "array([0.25635211, 0.01222023, 0.14400197, 0.94297554])"
      ]
     },
     "execution_count": 16,
     "metadata": {},
     "output_type": "execute_result"
    }
   ],
   "source": [
    "# Rastgele sayılardan oluşan bir dizi oluşturma:\n",
    "# dört adet rastgele sayıdan oluşan tek boyutlu bir dizi oluşturma\n",
    "array = np.random.random((4))\n",
    "array"
   ]
  },
  {
   "cell_type": "code",
   "execution_count": 17,
   "metadata": {},
   "outputs": [
    {
     "data": {
      "text/plain": [
       "array([ 5, 16, 19, 12])"
      ]
     },
     "execution_count": 17,
     "metadata": {},
     "output_type": "execute_result"
    }
   ],
   "source": [
    "# Rastgele tamsayılardan oluşan tek boyutlu bir dizi oluşturma\n",
    "array = np.random.randint(20, size=4)\n",
    "array\n",
    "# 20 değeri üretilecek sayıların 20'den küçük olmasını sağlar.\n",
    "# size özelliği kaç adet sayı üretileceğini belirler"
   ]
  },
  {
   "cell_type": "code",
   "execution_count": 18,
   "metadata": {},
   "outputs": [
    {
     "data": {
      "text/plain": [
       "array([[0.49370114, 0.37436487, 0.25209878, 0.43086044],\n",
       "       [0.84369718, 0.56258404, 0.91755791, 0.66437465]])"
      ]
     },
     "execution_count": 18,
     "metadata": {},
     "output_type": "execute_result"
    }
   ],
   "source": [
    "# 2 satırlı, 4 sütunlu rastgele sayılardan oluşan iki boyutlu bir dizi oluşturma\n",
    "array = np.random.random( (2, 4) )\n",
    "array"
   ]
  },
  {
   "cell_type": "code",
   "execution_count": 19,
   "metadata": {},
   "outputs": [
    {
     "data": {
      "text/plain": [
       "array([[3, 8, 9, 2],\n",
       "       [3, 3, 3, 8]])"
      ]
     },
     "execution_count": 19,
     "metadata": {},
     "output_type": "execute_result"
    }
   ],
   "source": [
    "# 2 satırlı, 4 sütunlu rastgele tam sayılardan oluşan iki boyutlu bir dizi oluşturma\n",
    "# 0 ve 10 arası tam sayı üretelim\n",
    "array = np.random.randint(0, 10, size=(2, 4))\n",
    "array"
   ]
  },
  {
   "cell_type": "code",
   "execution_count": 21,
   "metadata": {},
   "outputs": [
    {
     "data": {
      "text/plain": [
       "array([1, 2, 3])"
      ]
     },
     "execution_count": 21,
     "metadata": {},
     "output_type": "execute_result"
    }
   ],
   "source": [
    "#Dizilerde indis verilerine ulaşma:\n",
    "dizi = np.array([[1,2,3],[4,5,6]])\n",
    "# İlgili dizinin ilk satırını döndürme\n",
    "dizi[0]\n"
   ]
  },
  {
   "cell_type": "code",
   "execution_count": 22,
   "metadata": {},
   "outputs": [
    {
     "data": {
      "text/plain": [
       "array([4, 5, 6])"
      ]
     },
     "execution_count": 22,
     "metadata": {},
     "output_type": "execute_result"
    }
   ],
   "source": [
    "dizi[1]"
   ]
  },
  {
   "cell_type": "code",
   "execution_count": 23,
   "metadata": {},
   "outputs": [
    {
     "data": {
      "text/plain": [
       "array([[0, 1],\n",
       "       [2, 3],\n",
       "       [4, 5],\n",
       "       [6, 7]])"
      ]
     },
     "execution_count": 23,
     "metadata": {},
     "output_type": "execute_result"
    }
   ],
   "source": [
    "# Reshape bir dizinin şeklini değiştirmek demektir. Dizinin her boyutundaki elemanların sayısını aşa-\n",
    "# ğıdaki gibi belirleyebiliriz.\n",
    "array = np.arange(8)\n",
    "array = array.reshape(4, 2)\n",
    "array\n",
    "# yukarıdaki kodlar çalıştırıldığında 4 satırlı ve 2 sütunlu aşağıdaki gibi bir dizi elde edilir."
   ]
  },
  {
   "cell_type": "code",
   "execution_count": 26,
   "metadata": {},
   "outputs": [
    {
     "data": {
      "text/plain": [
       "array([[0, 1],\n",
       "       [2, 3]])"
      ]
     },
     "execution_count": 26,
     "metadata": {},
     "output_type": "execute_result"
    }
   ],
   "source": [
    "# Bu dizi referans alınarak aşağıdaki işlemler yapılabilir:\n",
    "# dizinin ilk iki satırını döndürme\n",
    "array[0 : 2]"
   ]
  },
  {
   "cell_type": "code",
   "execution_count": 29,
   "metadata": {},
   "outputs": [
    {
     "data": {
      "text/plain": [
       "array([0, 2, 4, 6])"
      ]
     },
     "execution_count": 29,
     "metadata": {},
     "output_type": "execute_result"
    }
   ],
   "source": [
    "# Dizinin ilk sütununu döndürme. Virgülün solu satırları, sağı ise sütunları belirler. Bu örnekte tüm\n",
    "# satırlar seçilmiş ancak sadece sıfırıncı indisteki sütunlar seçilmiştir.\n",
    "array[:,0]"
   ]
  },
  {
   "cell_type": "code",
   "execution_count": 30,
   "metadata": {},
   "outputs": [
    {
     "data": {
      "text/plain": [
       "5"
      ]
     },
     "execution_count": 30,
     "metadata": {},
     "output_type": "execute_result"
    }
   ],
   "source": [
    "# Dizinin üçüncü satırının ikinci değerini döndürme\n",
    "array[2,1]"
   ]
  },
  {
   "cell_type": "code",
   "execution_count": 31,
   "metadata": {},
   "outputs": [
    {
     "data": {
      "text/plain": [
       "array([[0., 0., 0.],\n",
       "       [0., 0., 0.],\n",
       "       [0., 0., 0.],\n",
       "       [0., 0., 0.],\n",
       "       [0., 0., 0.]])"
      ]
     },
     "execution_count": 31,
     "metadata": {},
     "output_type": "execute_result"
    }
   ],
   "source": [
    "# 5 satır ve 3 sütundan ve sıfırlardan oluşan matris örmeği\n",
    "array= np.zeros((5, 3))\n",
    "array"
   ]
  },
  {
   "cell_type": "code",
   "execution_count": 34,
   "metadata": {},
   "outputs": [
    {
     "data": {
      "text/plain": [
       "array([[1., 1., 1.],\n",
       "       [1., 1., 1.],\n",
       "       [1., 1., 1.],\n",
       "       [1., 1., 1.]])"
      ]
     },
     "execution_count": 34,
     "metadata": {},
     "output_type": "execute_result"
    }
   ],
   "source": [
    "# 2 boyutlu 1’lerden oluşan matris örneği:\n",
    "array = np.ones((4,3))\n",
    "array"
   ]
  },
  {
   "cell_type": "code",
   "execution_count": 36,
   "metadata": {},
   "outputs": [
    {
     "data": {
      "text/plain": [
       "array([[1., 0., 0.],\n",
       "       [0., 1., 0.],\n",
       "       [0., 0., 1.]])"
      ]
     },
     "execution_count": 36,
     "metadata": {},
     "output_type": "execute_result"
    }
   ],
   "source": [
    "# Birim matris oluşturma örneği: x boyutlu bir birim matriste, köşeden çapraz olan değerler birlerden,\n",
    "# diğer değerler ise sıfırlardan oluşur. Aşağıdaki örnekte x değeri 3 olarak verilmiştir.\n",
    "array = np.eye(3)\n",
    "array"
   ]
  },
  {
   "cell_type": "code",
   "execution_count": 37,
   "metadata": {},
   "outputs": [
    {
     "data": {
      "text/plain": [
       "array([[ 1,  2,  3],\n",
       "       [ 4,  5,  6],\n",
       "       [ 7,  8,  9],\n",
       "       [10, 11, 12]])"
      ]
     },
     "execution_count": 37,
     "metadata": {},
     "output_type": "execute_result"
    }
   ],
   "source": [
    "# Matris birleştirme:\n",
    "matris1 = np.array([[1, 2, 3] , [4, 5, 6]])\n",
    "matris2 = np.array([[7, 8, 9] , [10, 11, 12]])\n",
    "combine = np.concatenate([matris1, matris2])\n",
    "combine"
   ]
  },
  {
   "cell_type": "code",
   "execution_count": 38,
   "metadata": {},
   "outputs": [
    {
     "data": {
      "text/plain": [
       "array([[ 1,  2,  3,  7,  8,  9],\n",
       "       [ 4,  5,  6, 10, 11, 12]])"
      ]
     },
     "execution_count": 38,
     "metadata": {},
     "output_type": "execute_result"
    }
   ],
   "source": [
    "# Matris birleştirmede eğer ‘axis’ değeri kullanırsa matrisler yan yana diziliş gösterir. Yukarıdaki ko-\n",
    "# dumuzu şu şekilde yazalım ve çıktımızı görelim:\n",
    "combine = np.concatenate([matris1,matris2] , axis = 1)\n",
    "combine"
   ]
  },
  {
   "cell_type": "code",
   "execution_count": 39,
   "metadata": {},
   "outputs": [
    {
     "data": {
      "text/plain": [
       "12"
      ]
     },
     "execution_count": 39,
     "metadata": {},
     "output_type": "execute_result"
    }
   ],
   "source": [
    "# Bir dizinin maximum değerini bulma:\n",
    "combine.max()"
   ]
  },
  {
   "cell_type": "code",
   "execution_count": 40,
   "metadata": {},
   "outputs": [
    {
     "data": {
      "text/plain": [
       "1"
      ]
     },
     "execution_count": 40,
     "metadata": {},
     "output_type": "execute_result"
    }
   ],
   "source": [
    "# Bir dizinin minumum değerini bulma:\n",
    "combine.min()"
   ]
  },
  {
   "cell_type": "code",
   "execution_count": 41,
   "metadata": {},
   "outputs": [
    {
     "data": {
      "text/plain": [
       "78"
      ]
     },
     "execution_count": 41,
     "metadata": {},
     "output_type": "execute_result"
    }
   ],
   "source": [
    "# Bir dizideki tüm değerlerin toplamını bulma:\n",
    "combine.sum()"
   ]
  },
  {
   "cell_type": "code",
   "execution_count": 42,
   "metadata": {},
   "outputs": [
    {
     "data": {
      "text/plain": [
       "array([30, 48])"
      ]
     },
     "execution_count": 42,
     "metadata": {},
     "output_type": "execute_result"
    }
   ],
   "source": [
    "#Bir dizideki tüm satırların toplamını bulma:\n",
    "combine.sum(axis=1)"
   ]
  },
  {
   "cell_type": "code",
   "execution_count": 43,
   "metadata": {},
   "outputs": [
    {
     "data": {
      "text/plain": [
       "array([ 5,  7,  9, 17, 19, 21])"
      ]
     },
     "execution_count": 43,
     "metadata": {},
     "output_type": "execute_result"
    }
   ],
   "source": [
    "# Bir dizideki tüm sütunların toplamını bulma:\n",
    "# axis değeri 0 olursa sütunların toplamını alır\n",
    "combine.sum(axis=0)"
   ]
  },
  {
   "cell_type": "code",
   "execution_count": 44,
   "metadata": {},
   "outputs": [
    {
     "data": {
      "text/plain": [
       "6.5"
      ]
     },
     "execution_count": 44,
     "metadata": {},
     "output_type": "execute_result"
    }
   ],
   "source": [
    "# Bir dizideki tüm değerlerin ortalamasını bulma:\n",
    "combine.mean()"
   ]
  },
  {
   "cell_type": "code",
   "execution_count": 45,
   "metadata": {},
   "outputs": [
    {
     "data": {
      "text/plain": [
       "11.916666666666666"
      ]
     },
     "execution_count": 45,
     "metadata": {},
     "output_type": "execute_result"
    }
   ],
   "source": [
    "# Bir dizideki varyansı bulma:\n",
    "# Varyans nedir?\n",
    "# \"Varyans\" istatistiksel bir terimdir ve bir veri kümesindeki değerlerin ortalamadan ne kadar\n",
    "# sapma gösterdiğini ölçer. Yani varyans, bir veri kümesindeki her bir verinin ortalamadan ne kadar uzak-\n",
    "# laştığına bağlı olarak veri dağılımının ne kadar geniş olduğunu ölçer. Varyans, bir veri kümesindeki her\n",
    "# bir verinin ortalamadan ne kadar farklı olduğunu ölçmek için kullanılan kareli sapma değerlerinin top-\n",
    "# lamının n-1'e bölünmesi ile hesaplanır. Burada n, veri kümesindeki toplam örneklemlerin sayısını temsil\n",
    "# eder. Varyansın kareköküne standart sapma denir ve varyansın ölçüm birimi ile aynı birimde ifade edi-\n",
    "# lir. Daha düşük bir varyans değeri, veri kümesindeki örneklerin ortalamaya daha yakın olduğu anlamına\n",
    "# gelirken, daha yüksek bir varyans değeri, örneklerin ortalamadan daha fazla uzaklaştığı anlamına gelir.\"\"\"\n",
    "combine.var()"
   ]
  },
  {
   "cell_type": "code",
   "execution_count": 46,
   "metadata": {},
   "outputs": [
    {
     "data": {
      "text/plain": [
       "3.452052529534663"
      ]
     },
     "execution_count": 46,
     "metadata": {},
     "output_type": "execute_result"
    }
   ],
   "source": [
    "# Standart sapma nedir?\n",
    "# Standart sapma, bir veri kümesindeki değerlerin ortalamadan ne kadar sapma gösterdiğini öl-\n",
    "# çen bir istatistik terimidir. Standart sapma, veri kümesindeki her bir örneğin ortalamadan ne kadar\n",
    "# farklı olduğunu hesaplamak için kullanılır. Standart sapma, veri kümesindeki örneklemlerin her birinin\n",
    "# ortalamadan farkının karelerinin toplamının, örneklemlerin sayısının bir eksiğiyle bölümünden hesap-\n",
    "# lanır. Bu hesaplamayla, standart sapma, veri kümesindeki örneklerin ne kadar yayıldığını, ne kadar de-\n",
    "# ğişken olduğunu ölçer. Standart sapma, varyansın karekökü olarak hesaplanabilir. Varyans, standart\n",
    "# sapmanın karesidir ve standart sapma varyansın kareköküdür. Standart sapma, varyans gibi, veri kü-\n",
    "# mesinin ölçüm birimi ile aynı birimde ifade edilir. Bir veri kümesindeki standart sapma daha yüksekse,\n",
    "# veri kümesindeki örneklerin ortalamadan daha fazla sapma gösterdiği anlamına gelir ve veri kümesinin\n",
    "# daha değişken olduğunu ifade eder. Standart sapma daha düşükse, veri kümesindeki örneklerin orta-\n",
    "# lamaya daha yakın olduğu ve veri kümesinin daha homojen olduğu anlamına gelir.\n",
    "combine.std()"
   ]
  },
  {
   "cell_type": "code",
   "execution_count": null,
   "metadata": {},
   "outputs": [],
   "source": []
  }
 ],
 "metadata": {
  "kernelspec": {
   "display_name": "Python 3",
   "language": "python",
   "name": "python3"
  },
  "language_info": {
   "codemirror_mode": {
    "name": "ipython",
    "version": 3
   },
   "file_extension": ".py",
   "mimetype": "text/x-python",
   "name": "python",
   "nbconvert_exporter": "python",
   "pygments_lexer": "ipython3",
   "version": "3.10.12"
  },
  "orig_nbformat": 4
 },
 "nbformat": 4,
 "nbformat_minor": 2
}
